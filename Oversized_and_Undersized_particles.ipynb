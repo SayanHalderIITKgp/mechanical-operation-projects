{
  "nbformat": 4,
  "nbformat_minor": 0,
  "metadata": {
    "colab": {
      "name": "Oversized and Undersized particles.ipynb",
      "provenance": [],
      "collapsed_sections": []
    },
    "kernelspec": {
      "name": "python3",
      "display_name": "Python 3"
    },
    "language_info": {
      "name": "python"
    }
  },
  "cells": [
    {
      "cell_type": "markdown",
      "source": [
        "Oversized and Undersized particles are characterized based on mesh analysis"
      ],
      "metadata": {
        "id": "iy5Wqp0yXt0I"
      }
    },
    {
      "cell_type": "code",
      "metadata": {
        "id": "PHUZqUYDFiSC",
        "colab": {
          "base_uri": "https://localhost:8080/"
        },
        "outputId": "dd68d149-3b89-466b-f8f0-e5847428d4a2"
      },
      "source": [
        "GIVEN_QUANTITIES = {'mesh_number':[4,6,8,10,14,20,28,35,48,65,100,150,200],\n",
        "                    'percent_mass_feed':[0.0107,0.0235,0.0672,0.0864,0.1087,0.1759,0.1397,0.1077,0.1013,0.0746,0.0501,0.033,0.0212, ],\n",
        "                    'percent_oversize':[0.018,0.033,0.088,0.112,0.142,0.229,0.182,0.104,0.065,0.025,0.002,0,0],\n",
        "                    'percent_undersize':[0,0,0,0,0,0,0.1023,0.1195,0.2498,0.2391,0.1877,0.1427,0.0912]}\n",
        "\n",
        "\n",
        "MY_INDEX = 6 #you can change this number based on the requirement ,it connects to a table that can be changed according to your wish\n",
        "cumulative_undersize = 0\n",
        "cumulative_oversize = 0\n",
        "cumulative_feed = 0\n",
        "\n",
        "cumulative_undersize_mass_fraction = []\n",
        "cumulative_oversize_mass_fraction = []\n",
        "cumulative_feed_mass_fraction = []\n",
        "\n",
        "for i in range(len(GIVEN_QUANTITIES['mesh_number'])-1, -1,-1):\n",
        "  cumulative_undersize_mass_fraction.append(cumulative_undersize)\n",
        "  cumulative_undersize += GIVEN_QUANTITIES['percent_undersize'][i]\n",
        "\n",
        "  cumulative_oversize_mass_fraction.append(cumulative_oversize)\n",
        "  cumulative_oversize += GIVEN_QUANTITIES['percent_oversize'][i]\n",
        "\n",
        "  cumulative_feed_mass_fraction.append(cumulative_feed)\n",
        "  cumulative_feed += GIVEN_QUANTITIES['percent_mass_feed'][i]\n",
        "\n",
        "GIVEN_QUANTITIES['cumulative_undersize_mass_fraction'] = cumulative_undersize_mass_fraction\n",
        "GIVEN_QUANTITIES['cumulative_oversize_mass_fraction'] = cumulative_oversize_mass_fraction\n",
        "GIVEN_QUANTITIES['cumulative_feed_mass_fraction'] = cumulative_feed_mass_fraction\n",
        "\n",
        "#len(GIVEN_QUANTITIES['cumulative_undersize_mass_fraction']), len(GIVEN_QUANTITIES['mesh_number']), len(GIVEN_QUANTITIES['percent_oversize']), len(GIVEN_QUANTITIES['percent_undersize'])\n",
        "yr, yp = GIVEN_QUANTITIES['cumulative_oversize_mass_fraction'][MY_INDEX], GIVEN_QUANTITIES['cumulative_undersize_mass_fraction'][MY_INDEX]\n",
        "yf = GIVEN_QUANTITIES['cumulative_feed_mass_fraction'][MY_INDEX]\n",
        "\n",
        "print(f'yF = {yf}, yR = {yr}, yP = {yp}')\n",
        "\n",
        "Recovery = ((yf - yr)*yp)/((yp - yr)*yf)\n",
        "Rejection = 1 - ((yf - yr)*(1-yp))/((yp-yr)*(1-yf))\n",
        "Effectiveness = Recovery*Rejection\n",
        "\n",
        "print(f\"Recovery = {Recovery}\\nRejection = {Rejection}\\nEffectiveness = {Effectiveness}\")"
      ],
      "execution_count": 1,
      "outputs": [
        {
          "output_type": "stream",
          "name": "stdout",
          "text": [
            "yF = 0.3879, yR = 0.196, yP = 1.03\n",
            "Recovery = 0.6109791208023527\n",
            "Rejection = 1.0112773692171895\n",
            "Effectiveness = 0.6178693579316347\n"
          ]
        }
      ]
    },
    {
      "cell_type": "code",
      "source": [
        "GIVEN_QUANTITIES"
      ],
      "metadata": {
        "colab": {
          "base_uri": "https://localhost:8080/"
        },
        "id": "vc54F4YiYTiG",
        "outputId": "4dc3cd84-3466-4726-ec90-a99398fbe496"
      },
      "execution_count": 2,
      "outputs": [
        {
          "output_type": "execute_result",
          "data": {
            "text/plain": [
              "{'cumulative_feed_mass_fraction': [0,\n",
              "  0.0212,\n",
              "  0.0542,\n",
              "  0.1043,\n",
              "  0.1789,\n",
              "  0.2802,\n",
              "  0.3879,\n",
              "  0.5276000000000001,\n",
              "  0.7035,\n",
              "  0.8122,\n",
              "  0.8986000000000001,\n",
              "  0.9658000000000001,\n",
              "  0.9893000000000001],\n",
              " 'cumulative_oversize_mass_fraction': [0,\n",
              "  0,\n",
              "  0,\n",
              "  0.002,\n",
              "  0.027000000000000003,\n",
              "  0.092,\n",
              "  0.196,\n",
              "  0.378,\n",
              "  0.607,\n",
              "  0.749,\n",
              "  0.861,\n",
              "  0.949,\n",
              "  0.982],\n",
              " 'cumulative_undersize_mass_fraction': [0,\n",
              "  0.0912,\n",
              "  0.2339,\n",
              "  0.4216,\n",
              "  0.6607,\n",
              "  0.9105,\n",
              "  1.03,\n",
              "  1.1323,\n",
              "  1.1323,\n",
              "  1.1323,\n",
              "  1.1323,\n",
              "  1.1323,\n",
              "  1.1323],\n",
              " 'mesh_number': [4, 6, 8, 10, 14, 20, 28, 35, 48, 65, 100, 150, 200],\n",
              " 'percent_mass_feed': [0.0107,\n",
              "  0.0235,\n",
              "  0.0672,\n",
              "  0.0864,\n",
              "  0.1087,\n",
              "  0.1759,\n",
              "  0.1397,\n",
              "  0.1077,\n",
              "  0.1013,\n",
              "  0.0746,\n",
              "  0.0501,\n",
              "  0.033,\n",
              "  0.0212],\n",
              " 'percent_oversize': [0.018,\n",
              "  0.033,\n",
              "  0.088,\n",
              "  0.112,\n",
              "  0.142,\n",
              "  0.229,\n",
              "  0.182,\n",
              "  0.104,\n",
              "  0.065,\n",
              "  0.025,\n",
              "  0.002,\n",
              "  0,\n",
              "  0],\n",
              " 'percent_undersize': [0,\n",
              "  0,\n",
              "  0,\n",
              "  0,\n",
              "  0,\n",
              "  0,\n",
              "  0.1023,\n",
              "  0.1195,\n",
              "  0.2498,\n",
              "  0.2391,\n",
              "  0.1877,\n",
              "  0.1427,\n",
              "  0.0912]}"
            ]
          },
          "metadata": {},
          "execution_count": 2
        }
      ]
    },
    {
      "cell_type": "code",
      "metadata": {
        "id": "1ir21HFY21TC",
        "colab": {
          "base_uri": "https://localhost:8080/"
        },
        "outputId": "51db1820-c017-4c4d-f975-f00ad096e9d2"
      },
      "source": [
        "GIVEN_QUANTITIES['cumulative_oversize_mass_fraction'][6], GIVEN_QUANTITIES['cumulative_undersize_mass_fraction'][6]"
      ],
      "execution_count": 3,
      "outputs": [
        {
          "output_type": "execute_result",
          "data": {
            "text/plain": [
              "(0.196, 1.03)"
            ]
          },
          "metadata": {},
          "execution_count": 3
        }
      ]
    }
  ]
}