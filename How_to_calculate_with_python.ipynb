{
  "nbformat": 4,
  "nbformat_minor": 0,
  "metadata": {
    "colab": {
      "name": "How to calculate with python.ipynb",
      "provenance": [],
      "collapsed_sections": []
    },
    "kernelspec": {
      "name": "python3",
      "display_name": "Python 3"
    },
    "language_info": {
      "name": "python"
    }
  },
  "cells": [
    {
      "cell_type": "markdown",
      "source": [
        "SAYAN HALDER 19CH30017\n"
      ],
      "metadata": {
        "id": "u-A010mpcV_b"
      }
    },
    {
      "cell_type": "code",
      "metadata": {
        "id": "xZgPRO5Jqfcn"
      },
      "source": [
        "# first grinder\n",
        "X1 = [0.2,0.3,0.3,0.15,0.05]\n",
        "DP1 = [3.65,1.76,0.87,0.44,0.22]\n",
        "# second grinder\n",
        "X2 = [0.1,0.2,0.3,0.3,0.1]\n",
        "DP2 = [0.44,0.22,0.11,0.04,0.02]"
      ],
      "execution_count": null,
      "outputs": []
    },
    {
      "cell_type": "code",
      "metadata": {
        "id": "xqQc3z99peji"
      },
      "source": [
        "# first grinder\n",
        "DF1 = 50.8 # mm\n",
        "def d_p(x,d):\n",
        "  value = 0\n",
        "  for a,b in zip(x,d):\n",
        "    value += (a/b)\n",
        "  return 1/value * 1.0"
      ],
      "execution_count": null,
      "outputs": []
    },
    {
      "cell_type": "code",
      "metadata": {
        "colab": {
          "base_uri": "https://localhost:8080/"
        },
        "id": "ECXfTe6upem_",
        "outputId": "8f043468-ed7a-40d8-c80c-900f0bcad0a0"
      },
      "source": [
        "Dp1 = d_p(X1,DP1)\n",
        "DF2 = Dp1\n",
        "print(DF2)"
      ],
      "execution_count": null,
      "outputs": [
        {
          "output_type": "stream",
          "name": "stdout",
          "text": [
            "0.8785350832103296\n"
          ]
        }
      ]
    },
    {
      "cell_type": "code",
      "metadata": {
        "colab": {
          "base_uri": "https://localhost:8080/"
        },
        "id": "akUHrKHEqbO_",
        "outputId": "4b6643f8-7db7-46ff-c71f-a898e43591c3"
      },
      "source": [
        "Dp2 = d_p(X2,DP2)\n",
        "print(Dp2)"
      ],
      "execution_count": null,
      "outputs": [
        {
          "output_type": "stream",
          "name": "stdout",
          "text": [
            "0.06111111111111111\n"
          ]
        }
      ]
    },
    {
      "cell_type": "markdown",
      "metadata": {
        "id": "2-BUd31gr9zD"
      },
      "source": [
        "#Using Rittinger's law"
      ]
    },
    {
      "cell_type": "code",
      "metadata": {
        "id": "J0KU2IS6rhtD"
      },
      "source": [
        "def E_i(dp,df):\n",
        "  return ((1/dp) - (1/df))"
      ],
      "execution_count": null,
      "outputs": []
    },
    {
      "cell_type": "code",
      "metadata": {
        "colab": {
          "base_uri": "https://localhost:8080/"
        },
        "id": "6iUic8v0sawF",
        "outputId": "0bedce7e-186b-41b6-81ef-4238e0e3f94e"
      },
      "source": [
        "# E = E1/E2\n",
        "E1 = E_i(Dp1,DF1)\n",
        "E2 = E_i(Dp2,DF2)\n",
        "E = E1/E2\n",
        "print(E)"
      ],
      "execution_count": null,
      "outputs": [
        {
          "output_type": "stream",
          "name": "stdout",
          "text": [
            "0.0734676957684833\n"
          ]
        }
      ]
    },
    {
      "cell_type": "code",
      "metadata": {
        "colab": {
          "base_uri": "https://localhost:8080/"
        },
        "id": "67QChHmUsr13",
        "outputId": "77dbb86f-e065-4c99-a37e-ab174f0a15e6"
      },
      "source": [
        "E_S = 15 # E1 + E2 (known)\n",
        "E2 = 15 / (E+1)\n",
        "E1 = E_S - E2\n",
        "print(E1,E2)"
      ],
      "execution_count": null,
      "outputs": [
        {
          "output_type": "stream",
          "name": "stdout",
          "text": [
            "1.026593944905187 13.973406055094813\n"
          ]
        }
      ]
    },
    {
      "cell_type": "markdown",
      "metadata": {
        "id": "9ofYGtyPtZf6"
      },
      "source": [
        "#For kick's law"
      ]
    },
    {
      "cell_type": "code",
      "metadata": {
        "id": "8LTgMuk2t0Ly"
      },
      "source": [
        "import math"
      ],
      "execution_count": null,
      "outputs": []
    },
    {
      "cell_type": "markdown",
      "metadata": {
        "id": "lOmQ50S4i12L"
      },
      "source": [
        ""
      ]
    },
    {
      "cell_type": "code",
      "metadata": {
        "id": "K1NUcwALtUfp"
      },
      "source": [
        "def EK_i(dp,df):\n",
        "  return math.log(df/dp)"
      ],
      "execution_count": null,
      "outputs": []
    },
    {
      "cell_type": "code",
      "metadata": {
        "colab": {
          "base_uri": "https://localhost:8080/"
        },
        "id": "hQa1piO3t4lW",
        "outputId": "52ea2472-faee-49e2-8c8d-462eadca5ff8"
      },
      "source": [
        "Ek1 = EK_i(Dp1,DF1)\n",
        "Ek2 = EK_i(Dp2,DF2)\n",
        "# EK = Ek1/Ek2\n",
        "Ek = Ek1 / Ek2\n",
        "print(Ek)"
      ],
      "execution_count": null,
      "outputs": [
        {
          "output_type": "stream",
          "name": "stdout",
          "text": [
            "1.5221538933655052\n"
          ]
        }
      ]
    },
    {
      "cell_type": "code",
      "metadata": {
        "colab": {
          "base_uri": "https://localhost:8080/"
        },
        "id": "Sa9xKMOKuHd7",
        "outputId": "f827bc10-e059-4277-d826-150f8ed90fe2"
      },
      "source": [
        "Ek_S = 15 #kw (Ek1 + Ek2)(known)\n",
        "Ek2 = 15 / (Ek+1)\n",
        "Ek1 = 15 - Ek2\n",
        "print(Ek1,Ek2)"
      ],
      "execution_count": null,
      "outputs": [
        {
          "output_type": "stream",
          "name": "stdout",
          "text": [
            "9.052702319451118 5.947297680548881\n"
          ]
        }
      ]
    },
    {
      "cell_type": "code",
      "metadata": {
        "id": "rKQDn4eDugzw"
      },
      "source": [
        ""
      ],
      "execution_count": null,
      "outputs": []
    },
    {
      "cell_type": "markdown",
      "metadata": {
        "id": "5H9wNSHLuiCe"
      },
      "source": [
        "#Bond's law"
      ]
    },
    {
      "cell_type": "code",
      "metadata": {
        "id": "79EgsgUlueVF"
      },
      "source": [
        "def Eb_i(dp,df):\n",
        "  return (1/math.sqrt(dp)) - (1/math.sqrt(df))"
      ],
      "execution_count": null,
      "outputs": []
    },
    {
      "cell_type": "code",
      "metadata": {
        "colab": {
          "base_uri": "https://localhost:8080/"
        },
        "id": "jMkOUf1OuzHa",
        "outputId": "efa90b81-8108-454f-c51d-ccafb2c92af5"
      },
      "source": [
        "Eb1 = Eb_i(Dp1,DF1)\n",
        "Eb2 = Eb_i(Dp2,DF2)\n",
        "# Eb = Eb1/Eb2\n",
        "Eb = Eb1 / Eb2\n",
        "print(Eb)"
      ],
      "execution_count": null,
      "outputs": [
        {
          "output_type": "stream",
          "name": "stdout",
          "text": [
            "0.3111124943608538\n"
          ]
        }
      ]
    },
    {
      "cell_type": "code",
      "metadata": {
        "colab": {
          "base_uri": "https://localhost:8080/"
        },
        "id": "WP7EvRqvu3Nr",
        "outputId": "6439febc-fe89-485e-a40c-b931b1cbc02a"
      },
      "source": [
        "Eb_S = 15 #kw (Eb1 + Eb2)(known)\n",
        "Eb2 = 15 / (Eb+1)\n",
        "Eb1 = 15 - Eb2\n",
        "print(Eb1,Eb2)"
      ],
      "execution_count": null,
      "outputs": [
        {
          "output_type": "stream",
          "name": "stdout",
          "text": [
            "3.5593341040409676 11.440665895959032\n"
          ]
        }
      ]
    }
  ]
}