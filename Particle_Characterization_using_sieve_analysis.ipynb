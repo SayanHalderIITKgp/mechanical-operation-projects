{
  "nbformat": 4,
  "nbformat_minor": 0,
  "metadata": {
    "colab": {
      "name": "Particle Characterization using sieve analysis.ipynb",
      "provenance": [],
      "collapsed_sections": []
    },
    "kernelspec": {
      "name": "python3",
      "display_name": "Python 3"
    },
    "language_info": {
      "name": "python"
    }
  },
  "cells": [
    {
      "cell_type": "code",
      "execution_count": 1,
      "metadata": {
        "id": "BQlD14bpVo5p"
      },
      "outputs": [],
      "source": [
        "MESH_QUANTITIES = {'mesh_number':[4,6,8,10,14,20,28,35,48,65,100,150,200],\n",
        "                   'mesh_size':[4760,3360,2380,2000,1410,840,595,500,297,210,149,105,74],\n",
        "                   'mass_frac':[0,0.0251,0.1250,0.3207,0.2570,0.1590,0.0538,0.021,0.0102,0.0077,0.0058,0.0041,0.0031,0.0075]\n",
        "                   }\n",
        "\n",
        "density = 2650   #kg/m3 considered for quartz\n",
        "sphericity = 0.571 #considered"
      ]
    },
    {
      "cell_type": "code",
      "source": [
        ""
      ],
      "metadata": {
        "id": "dIuaiqJ7WMBL"
      },
      "execution_count": null,
      "outputs": []
    },
    {
      "cell_type": "code",
      "metadata": {
        "id": "5Cq4sC9RZfuv",
        "colab": {
          "base_uri": "https://localhost:8080/"
        },
        "outputId": "1fc8ef42-93d0-4a3e-bf84-0ef52f42dc46"
      },
      "source": [
        "mass_frac = MESH_QUANTITIES['mass_frac']\n",
        "mesh_size = MESH_QUANTITIES['mesh_size']\n",
        "\n",
        "mass_mean_diameter = 0\n",
        "x_total = 0\n",
        "vol_mean_diameter_numerator = 0\n",
        "vol_mean_diameter_denominator = 0\n",
        "vol_surface_mean_diameter_denominator = 0\n",
        "specific_surface_area = 0\n",
        "\n",
        "for d,x in zip(mesh_size, mass_frac):\n",
        "  mass_mean_diameter += d*x\n",
        "  specific_surface_area += x/d\n",
        "  x_total += x\n",
        "  vol_mean_diameter_numerator += x*(d**4)\n",
        "  vol_mean_diameter_denominator += x*(d**3)\n",
        "  vol_surface_mean_diameter_denominator += x*(d**2)\n",
        "  \n",
        "print('Mass Mean Diameter = ', mass_mean_diameter/x_total)\n",
        "print('Volume Mean Diameter = ', vol_mean_diameter_numerator/vol_mean_diameter_denominator)\n",
        "print('Volume Surface Mean Diameter = ', vol_mean_diameter_denominator/vol_surface_mean_diameter_denominator)\n",
        "print('Average Specific Surface Area = ', 6*specific_surface_area/(density*sphericity))"
      ],
      "execution_count": 2,
      "outputs": [
        {
          "output_type": "stream",
          "name": "stdout",
          "text": [
            "Mass Mean Diameter =  1579.695214105793\n",
            "Volume Mean Diameter =  2228.8483342923682\n",
            "Volume Surface Mean Diameter =  2063.5330838130863\n",
            "Average Specific Surface Area =  3.628955829272298e-06\n"
          ]
        }
      ]
    }
  ]
}