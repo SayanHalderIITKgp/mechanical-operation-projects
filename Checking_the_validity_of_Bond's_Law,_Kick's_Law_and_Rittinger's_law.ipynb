{
  "nbformat": 4,
  "nbformat_minor": 0,
  "metadata": {
    "colab": {
      "name": "Checking the validity of Bond's Law, Kick's Law and Rittinger's law.ipynb",
      "provenance": [],
      "collapsed_sections": []
    },
    "kernelspec": {
      "name": "python3",
      "display_name": "Python 3"
    },
    "language_info": {
      "name": "python"
    }
  },
  "cells": [
    {
      "cell_type": "markdown",
      "source": [
        "Checking the validity of Bond's Law, Kick's Law and Rittinger's law"
      ],
      "metadata": {
        "id": "_pLSj-MFZbrq"
      }
    },
    {
      "cell_type": "code",
      "metadata": {
        "colab": {
          "base_uri": "https://localhost:8080/"
        },
        "id": "u55Zln8QJhmN",
        "outputId": "4a14e0ba-ea7d-4b67-94d3-63799edae22c"
      },
      "source": [
        "import math\n",
        "\n",
        "GRINDER_ONE_DATA = {'particle_size':[3.65,1.76,0.87,0.44,0.22],\n",
        "                    'wt_fraction':[0.2,0.3,0.3,0.15,0.05]}\n",
        "GRINDER_TWO_DATA = {'particle_size':[0.44,0.22,0.11,0.04,0.02],\n",
        "                    'wt_fraction':[0.1,0.2,0.3,0.3,0.1]}\n",
        "\n",
        "flow_rate = 1000/3600  # Kg/s\n",
        "feed_size_diameter = 50.8/1000   #meter\n",
        "\n",
        "P_total = 15000  # watts\n",
        "\n",
        "grinder_one_product_size_numerator = 0\n",
        "grinder_two_product_size_numerator = 0\n",
        "\n",
        "grinder_one_product_size_denominator = 0\n",
        "grinder_two_product_size_denominator = 0\n",
        "\n",
        "for i in range(len(GRINDER_ONE_DATA['wt_fraction'])):\n",
        "  grinder_one_product_size_numerator += GRINDER_ONE_DATA['wt_fraction'][i]*(GRINDER_ONE_DATA['particle_size'][i]**3)\n",
        "  grinder_one_product_size_denominator += GRINDER_ONE_DATA['wt_fraction'][i]*(GRINDER_ONE_DATA['particle_size'][i]**2)\n",
        "\n",
        "  grinder_two_product_size_numerator += GRINDER_TWO_DATA['wt_fraction'][i]*(GRINDER_TWO_DATA['particle_size'][i]**3)\n",
        "  grinder_two_product_size_denominator += GRINDER_TWO_DATA['wt_fraction'][i]*(GRINDER_TWO_DATA['particle_size'][i]**2)\n",
        "\n",
        "grinder_one_vol_surface_mean_diameter = (grinder_one_product_size_numerator/grinder_one_product_size_denominator)/1000\n",
        "grinder_two_vol_surface_mean_diameter = (grinder_two_product_size_numerator/grinder_two_product_size_denominator)/1000\n",
        "\n",
        "print(f'Grinder 1 Vol Surface Mean Diameter = {grinder_one_vol_surface_mean_diameter} m \\nGrinder 2 Vol Surface Mean Diameter = {grinder_two_vol_surface_mean_diameter} m')\n",
        "\n",
        "W_total = P_total/flow_rate\n",
        "\n",
        "# Retinger's Law\n",
        "\n",
        "print(\"RETTINGER'S LAW \")\n",
        "\n",
        "Kr = W_total/((1/grinder_one_vol_surface_mean_diameter - 1/feed_size_diameter) + (1/grinder_two_vol_surface_mean_diameter - 1/grinder_one_vol_surface_mean_diameter))\n",
        "P1 = Kr*flow_rate*(1/grinder_one_vol_surface_mean_diameter - 1/feed_size_diameter)\n",
        "P2 = Kr*flow_rate*(1/grinder_two_vol_surface_mean_diameter - 1/grinder_one_vol_surface_mean_diameter)\n",
        "P_total_actual = P1+P2\n",
        "print('Kr = ', Kr)\n",
        "print('Grinder 1 power consumption = ', P1)\n",
        "print('Grinder 2 power consumption = ', P2)\n",
        "print('Total Power consumption = ', P_total_actual)\n",
        "# Kick's Law\n",
        "\n",
        "print(\"KICK'S LAW \")\n",
        "Kk = W_total/(math.log(feed_size_diameter/grinder_one_vol_surface_mean_diameter) + math.log(grinder_one_vol_surface_mean_diameter/grinder_two_vol_surface_mean_diameter))\n",
        "P1 = Kk*flow_rate*math.log(feed_size_diameter/grinder_one_vol_surface_mean_diameter)\n",
        "P2 = Kk*flow_rate*math.log(grinder_one_vol_surface_mean_diameter/grinder_two_vol_surface_mean_diameter)\n",
        "P_total_actual = P1+P2\n",
        "print('Kk = ', Kk)\n",
        "print('Grinder 1 power consumption = ', P1)\n",
        "print('Grinder 2 power consumption = ', P2)\n",
        "print('Total Power consumption = ', P_total_actual)\n",
        "\n",
        "\n",
        "# Bond's Law\n",
        "\n",
        "print(\"BOND'S LAW \")\n",
        "\n",
        "Kb = W_total/((1/(grinder_one_vol_surface_mean_diameter**0.5) - 1/(feed_size_diameter**0.5))+(1/(grinder_two_vol_surface_mean_diameter**0.5) - 1/(grinder_one_vol_surface_mean_diameter**0.5)))\n",
        "P1 = Kb*flow_rate*(1/(grinder_one_vol_surface_mean_diameter**0.5) - 1/(feed_size_diameter**0.5))\n",
        "P2 = Kb*flow_rate*(1/(grinder_two_vol_surface_mean_diameter**0.5) - 1/(grinder_one_vol_surface_mean_diameter**0.5))\n",
        "P_total_actual = P1+P2\n",
        "print('Kb = ', Kb)\n",
        "print('Grinder 1 power consumption = ', P1)\n",
        "print('Grinder 2 power consumption = ', P2)\n",
        "print('Total Power consumption = ', P_total_actual)\n"
      ],
      "execution_count": 1,
      "outputs": [
        {
          "output_type": "stream",
          "name": "stdout",
          "text": [
            "Grinder 1 Vol Surface Mean Diameter = 0.003003864875879667 m \n",
            "Grinder 2 Vol Surface Mean Diameter = 0.0003334528472431456 m\n",
            "RETTINGER'S LAW \n",
            "Kr =  18.125429659148534\n",
            "Grinder 1 power consumption =  1577.0101359750124\n",
            "Grinder 2 power consumption =  13422.98986402499\n",
            "Total Power consumption =  15000.000000000004\n",
            "KICK'S LAW \n",
            "Kk =  10743.80951998051\n",
            "Grinder 1 power consumption =  8439.849118549339\n",
            "Grinder 2 power consumption =  6560.15088145066\n",
            "Total Power consumption =  14999.999999999998\n",
            "BOND'S LAW \n",
            "Kb =  1073.011331836917\n",
            "Grinder 1 power consumption =  4115.858936563782\n",
            "Grinder 2 power consumption =  10884.141063436222\n",
            "Total Power consumption =  15000.000000000004\n"
          ]
        }
      ]
    }
  ]
}