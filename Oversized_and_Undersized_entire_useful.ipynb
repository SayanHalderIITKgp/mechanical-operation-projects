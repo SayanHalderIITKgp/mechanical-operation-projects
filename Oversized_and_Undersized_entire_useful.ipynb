{
  "nbformat": 4,
  "nbformat_minor": 0,
  "metadata": {
    "colab": {
      "name": "Oversized and Undersized entire useful.ipynb",
      "provenance": [],
      "collapsed_sections": []
    },
    "kernelspec": {
      "name": "python3",
      "display_name": "Python 3"
    },
    "language_info": {
      "name": "python"
    }
  },
  "cells": [
    {
      "cell_type": "code",
      "metadata": {
        "id": "hKK1TcyL1PsJ",
        "colab": {
          "base_uri": "https://localhost:8080/"
        },
        "outputId": "d0435850-2347-4844-f845-4bb1800ce177"
      },
      "source": [
        "import numpy as np\n",
        "table =np.array([[\"Mesh_number\",\"D_pi\",\"Percentage_mass_feed\",\"Percentage_Oversize\",\"Percentage_Undersize\"],\n",
        "                [4,4.699,0.0107,0.018,0],\n",
        "                [6,3.327,0.0235,0.033,0],\n",
        "                [8,2.362,0.0672,0.088,0],\n",
        "                [10,1.651,0.0864,0.112,0],\n",
        "                [14,1.168,0.1087,0.142,0],\n",
        "                [20,0.833,0.1754,0.229,0],\n",
        "                [28,0.589,0.1397,0.182,0.1023],\n",
        "                [35,0.417,0.1077,0.104,0.1195],\n",
        "                [48,0.295,0.1013,0.065,0.2198],\n",
        "                [65,0.208,0.0740,0.025,0.2391],\n",
        "                [100,0.147,0.0501,0.002,0.1877],\n",
        "                [150,0.104,0.033,0,0.1427],\n",
        "                [200,0.074,0.0212,0,0.0912]])\n",
        "print (\"Table used is:\",table)\n"
      ],
      "execution_count": null,
      "outputs": [
        {
          "output_type": "stream",
          "name": "stdout",
          "text": [
            "Table used is: [['Mesh_number' 'D_pi' 'Percentage_mass_feed' 'Percentage_Oversize'\n",
            "  'Percentage_Undersize']\n",
            " ['4' '4.699' '0.0107' '0.018' '0']\n",
            " ['6' '3.327' '0.0235' '0.033' '0']\n",
            " ['8' '2.362' '0.0672' '0.088' '0']\n",
            " ['10' '1.651' '0.0864' '0.112' '0']\n",
            " ['14' '1.168' '0.1087' '0.142' '0']\n",
            " ['20' '0.833' '0.1754' '0.229' '0']\n",
            " ['28' '0.589' '0.1397' '0.182' '0.1023']\n",
            " ['35' '0.417' '0.1077' '0.104' '0.1195']\n",
            " ['48' '0.295' '0.1013' '0.065' '0.2198']\n",
            " ['65' '0.208' '0.074' '0.025' '0.2391']\n",
            " ['100' '0.147' '0.0501' '0.002' '0.1877']\n",
            " ['150' '0.104' '0.033' '0' '0.1427']\n",
            " ['200' '0.074' '0.0212' '0' '0.0912']]\n"
          ]
        }
      ]
    },
    {
      "cell_type": "code",
      "metadata": {
        "colab": {
          "base_uri": "https://localhost:8080/"
        },
        "id": "2gc6AwKg-sa2",
        "outputId": "3ac85093-2c85-4348-efe6-f5cd0ed08d9f"
      },
      "source": [
        "cumulative_oversize = [0 for i in range (len(table))]\n",
        "b=0\n",
        "for i in range(len(table)-2,-1,-1):\n",
        "  cumulative_oversize[i]= float(table[i+1][3])+float(b)\n",
        "  b=cumulative_oversize[i]\n",
        "cumulative_oversize[0]=\"Cumulative_oversize\"\n",
        "print (cumulative_oversize)\n",
        "final_table = np.insert(table,5,cumulative_oversize,axis=1)\n",
        "print(final_table)\n",
        "  \n"
      ],
      "execution_count": null,
      "outputs": [
        {
          "output_type": "stream",
          "name": "stdout",
          "text": [
            "['Cumulative_oversize', 0.982, 0.949, 0.861, 0.749, 0.607, 0.378, 0.196, 0.092, 0.027000000000000003, 0.002, 0.0, 0.0, 0]\n",
            "[['Mesh_number' 'D_pi' 'Percentage_mass_feed' 'Percentage_Oversize'\n",
            "  'Percentage_Undersize' 'Cumulative_oversize']\n",
            " ['4' '4.699' '0.0107' '0.018' '0' '0.982']\n",
            " ['6' '3.327' '0.0235' '0.033' '0' '0.949']\n",
            " ['8' '2.362' '0.0672' '0.088' '0' '0.861']\n",
            " ['10' '1.651' '0.0864' '0.112' '0' '0.749']\n",
            " ['14' '1.168' '0.1087' '0.142' '0' '0.607']\n",
            " ['20' '0.833' '0.1754' '0.229' '0' '0.378']\n",
            " ['28' '0.589' '0.1397' '0.182' '0.1023' '0.196']\n",
            " ['35' '0.417' '0.1077' '0.104' '0.1195' '0.092']\n",
            " ['48' '0.295' '0.1013' '0.065' '0.2198' '0.027000000000000003']\n",
            " ['65' '0.208' '0.074' '0.025' '0.2391' '0.002']\n",
            " ['100' '0.147' '0.0501' '0.002' '0.1877' '0.0']\n",
            " ['150' '0.104' '0.033' '0' '0.1427' '0.0']\n",
            " ['200' '0.074' '0.0212' '0' '0.0912' '0']]\n"
          ]
        }
      ]
    },
    {
      "cell_type": "code",
      "metadata": {
        "colab": {
          "base_uri": "https://localhost:8080/"
        },
        "id": "MjhoTTvXHqmU",
        "outputId": "65fb308a-ec80-4067-8131-9620c0732282"
      },
      "source": [
        "cumulative_undersize = [0 for i in range (len(table))]\n",
        "c=0\n",
        "for i in range(len(table)-2,-1,-1):\n",
        "  cumulative_undersize[i]= float(table[i+1][4])+float(c)\n",
        "  c=cumulative_undersize[i]\n",
        "cumulative_undersize[0]=\"Cumulative_Undersize\"\n",
        "print (cumulative_undersize)\n",
        "final_table2 = np.insert(final_table,6,cumulative_undersize,axis=1)\n",
        "print(final_table2)\n",
        "  "
      ],
      "execution_count": null,
      "outputs": [
        {
          "output_type": "stream",
          "name": "stdout",
          "text": [
            "['Cumulative_Undersize', 1.1023, 1.1023, 1.1023, 1.1023, 1.1023, 1.1023, 1.0, 0.8805, 0.6607, 0.4216, 0.2339, 0.0912, 0]\n",
            "[['Mesh_number' 'D_pi' 'Percentage_mass_feed' 'Percentage_Oversize'\n",
            "  'Percentage_Undersize' 'Cumulative_oversize' 'Cumulative_Undersize']\n",
            " ['4' '4.699' '0.0107' '0.018' '0' '0.982' '1.1023']\n",
            " ['6' '3.327' '0.0235' '0.033' '0' '0.949' '1.1023']\n",
            " ['8' '2.362' '0.0672' '0.088' '0' '0.861' '1.1023']\n",
            " ['10' '1.651' '0.0864' '0.112' '0' '0.749' '1.1023']\n",
            " ['14' '1.168' '0.1087' '0.142' '0' '0.607' '1.1023']\n",
            " ['20' '0.833' '0.1754' '0.229' '0' '0.378' '1.1023']\n",
            " ['28' '0.589' '0.1397' '0.182' '0.1023' '0.196' '1.0']\n",
            " ['35' '0.417' '0.1077' '0.104' '0.1195' '0.092' '0.8805']\n",
            " ['48' '0.295' '0.1013' '0.065' '0.2198' '0.027000000000000003' '0.6607']\n",
            " ['65' '0.208' '0.074' '0.025' '0.2391' '0.002' '0.4216']\n",
            " ['100' '0.147' '0.0501' '0.002' '0.1877' '0.0' '0.2339']\n",
            " ['150' '0.104' '0.033' '0' '0.1427' '0.0' '0.0912']\n",
            " ['200' '0.074' '0.0212' '0' '0.0912' '0' '0']]\n"
          ]
        }
      ]
    },
    {
      "cell_type": "code",
      "metadata": {
        "colab": {
          "base_uri": "https://localhost:8080/"
        },
        "id": "aRgazAplNIeQ",
        "outputId": "5193fb82-31b8-4480-efd0-373aa0f4e5d6"
      },
      "source": [
        "print (\"For roll number ending with odd number, desired product is undersized product\")\n",
        "print (\"Roll number = 19CH30017\")\n",
        "\n",
        "#Hence, we need to look at mesh number 100\n",
        "\n",
        "#y_P is the product mass fraction,i.e. cumulative undersize\n",
        "y_P = float(final_table2[len(table)-2][6])\n",
        "#y_R is the residue mass fraction,i.e. cumulative oversize\n",
        "y_R = float(final_table2[len(table)-2][5])\n",
        "y_F = float(final_table2[len(table)-2][2])\n",
        "\n",
        "#Let F=100\n",
        "F=100\n",
        "#P+R=100\n",
        "#(P*y_P)+(R*y_R)=(100*y_F)\n",
        "P=((100*y_F)-(100*y_R))/(y_P-y_R)\n",
        "print(P)\n",
        "R = 100-P\n",
        "print(R)\n",
        "Recovery = ((P*y_P)/(F*y_F))\n",
        "print(Recovery*100,\"%\")\n",
        "Rejection = ((R*(1-y_R))/(F*(1-y_F)))\n",
        "print (Rejection*100,\"%\")\n",
        "\n",
        "Efficiency= Rejection*Recovery*100\n",
        "print(Efficiency,\"%\")"
      ],
      "execution_count": null,
      "outputs": [
        {
          "output_type": "stream",
          "name": "stdout",
          "text": [
            "For roll number ending with odd number, desired product is undersized product\n",
            "Roll number = 19CH30017\n",
            "36.18421052631579\n",
            "63.81578947368421\n",
            "99.99999999999999 %\n",
            "65.99357753224841 %\n",
            "65.9935775322484 %\n"
          ]
        }
      ]
    }
  ]
}